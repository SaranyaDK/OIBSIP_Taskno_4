{
 "cells": [
  {
   "cell_type": "markdown",
   "id": "0cdaadd9",
   "metadata": {},
   "source": [
    "#  DataScience intern at Oasis Infobyte"
   ]
  },
  {
   "cell_type": "markdown",
   "id": "d7154d13",
   "metadata": {},
   "source": [
    "#  Task 4 : EMAIL SPAM DETECTION WITH MACHINE LEARNING"
   ]
  },
  {
   "cell_type": "markdown",
   "id": "e98b7cf3",
   "metadata": {},
   "source": [
    "#  NAME : SARANYA . D"
   ]
  },
  {
   "cell_type": "markdown",
   "id": "6f28ff7f",
   "metadata": {},
   "source": [
    "# --------------------------------------------------------------------------------------------------------"
   ]
  },
  {
   "cell_type": "markdown",
   "id": "3d0ea588",
   "metadata": {},
   "source": [
    "# Importing some basic packages"
   ]
  },
  {
   "cell_type": "code",
   "execution_count": 1,
   "id": "d8dfd45b",
   "metadata": {},
   "outputs": [],
   "source": [
    "import numpy as np\n",
    "import pandas as pd\n",
    "import matplotlib.pyplot as plt\n",
    "import seaborn as sns"
   ]
  },
  {
   "cell_type": "code",
   "execution_count": 2,
   "id": "5bc73f63",
   "metadata": {},
   "outputs": [],
   "source": [
    "spam_df = pd.read_csv(\"C:/Users/ELCOT/Desktop/D.SARANYA/spam.csv\", encoding=(\"ISO-8859-1\"))"
   ]
  },
  {
   "cell_type": "code",
   "execution_count": 3,
   "id": "f0a415ad",
   "metadata": {},
   "outputs": [],
   "source": [
    "##Geting Details about the csv file uploaded##"
   ]
  },
  {
   "cell_type": "code",
   "execution_count": 4,
   "id": "645b71e0",
   "metadata": {},
   "outputs": [
    {
     "name": "stdout",
     "output_type": "stream",
     "text": [
      "     v1                                                 v2 Unnamed: 2  \\\n",
      "0   ham  Go until jurong point, crazy.. Available only ...        NaN   \n",
      "1   ham                      Ok lar... Joking wif u oni...        NaN   \n",
      "2  spam  Free entry in 2 a wkly comp to win FA Cup fina...        NaN   \n",
      "3   ham  U dun say so early hor... U c already then say...        NaN   \n",
      "4   ham  Nah I don't think he goes to usf, he lives aro...        NaN   \n",
      "5  spam  FreeMsg Hey there darling it's been 3 week's n...        NaN   \n",
      "6   ham  Even my brother is not like to speak with me. ...        NaN   \n",
      "7   ham  As per your request 'Melle Melle (Oru Minnamin...        NaN   \n",
      "8  spam  WINNER!! As a valued network customer you have...        NaN   \n",
      "9  spam  Had your mobile 11 months or more? U R entitle...        NaN   \n",
      "\n",
      "  Unnamed: 3 Unnamed: 4  \n",
      "0        NaN        NaN  \n",
      "1        NaN        NaN  \n",
      "2        NaN        NaN  \n",
      "3        NaN        NaN  \n",
      "4        NaN        NaN  \n",
      "5        NaN        NaN  \n",
      "6        NaN        NaN  \n",
      "7        NaN        NaN  \n",
      "8        NaN        NaN  \n",
      "9        NaN        NaN  \n"
     ]
    }
   ],
   "source": [
    "print(spam_df.head(10))"
   ]
  },
  {
   "cell_type": "code",
   "execution_count": 5,
   "id": "842ed22f",
   "metadata": {},
   "outputs": [
    {
     "name": "stdout",
     "output_type": "stream",
     "text": [
      "        v1                                                 v2 Unnamed: 2  \\\n",
      "5562   ham  Ok lor... Sony ericsson salesman... I ask shuh...        NaN   \n",
      "5563   ham                                Ard 6 like dat lor.        NaN   \n",
      "5564   ham  Why don't you wait 'til at least wednesday to ...        NaN   \n",
      "5565   ham                                       Huh y lei...        NaN   \n",
      "5566  spam  REMINDER FROM O2: To get 2.50 pounds free call...        NaN   \n",
      "5567  spam  This is the 2nd time we have tried 2 contact u...        NaN   \n",
      "5568   ham              Will Ì_ b going to esplanade fr home?        NaN   \n",
      "5569   ham  Pity, * was in mood for that. So...any other s...        NaN   \n",
      "5570   ham  The guy did some bitching but I acted like i'd...        NaN   \n",
      "5571   ham                         Rofl. Its true to its name        NaN   \n",
      "\n",
      "     Unnamed: 3 Unnamed: 4  \n",
      "5562        NaN        NaN  \n",
      "5563        NaN        NaN  \n",
      "5564        NaN        NaN  \n",
      "5565        NaN        NaN  \n",
      "5566        NaN        NaN  \n",
      "5567        NaN        NaN  \n",
      "5568        NaN        NaN  \n",
      "5569        NaN        NaN  \n",
      "5570        NaN        NaN  \n",
      "5571        NaN        NaN  \n"
     ]
    }
   ],
   "source": [
    "print(spam_df.tail(10))"
   ]
  },
  {
   "cell_type": "code",
   "execution_count": 6,
   "id": "580479f1",
   "metadata": {},
   "outputs": [
    {
     "name": "stdout",
     "output_type": "stream",
     "text": [
      "     v1                                                 v2\n",
      "0   ham  Go until jurong point, crazy.. Available only ...\n",
      "1   ham                      Ok lar... Joking wif u oni...\n",
      "2  spam  Free entry in 2 a wkly comp to win FA Cup fina...\n",
      "3   ham  U dun say so early hor... U c already then say...\n",
      "4   ham  Nah I don't think he goes to usf, he lives aro...\n",
      "5  spam  FreeMsg Hey there darling it's been 3 week's n...\n",
      "6   ham  Even my brother is not like to speak with me. ...\n",
      "7   ham  As per your request 'Melle Melle (Oru Minnamin...\n",
      "8  spam  WINNER!! As a valued network customer you have...\n",
      "9  spam  Had your mobile 11 months or more? U R entitle...\n"
     ]
    }
   ],
   "source": [
    "columns = ['Unnamed: 2','Unnamed: 3','Unnamed: 4']\n",
    "spam_df.drop(columns, axis = 1, inplace = True)\n",
    "print(spam_df.head(10))"
   ]
  },
  {
   "cell_type": "code",
   "execution_count": 7,
   "id": "83c504d5",
   "metadata": {},
   "outputs": [
    {
     "data": {
      "text/html": [
       "<div>\n",
       "<style scoped>\n",
       "    .dataframe tbody tr th:only-of-type {\n",
       "        vertical-align: middle;\n",
       "    }\n",
       "\n",
       "    .dataframe tbody tr th {\n",
       "        vertical-align: top;\n",
       "    }\n",
       "\n",
       "    .dataframe thead th {\n",
       "        text-align: right;\n",
       "    }\n",
       "</style>\n",
       "<table border=\"1\" class=\"dataframe\">\n",
       "  <thead>\n",
       "    <tr style=\"text-align: right;\">\n",
       "      <th></th>\n",
       "      <th>v1</th>\n",
       "      <th>v2</th>\n",
       "    </tr>\n",
       "  </thead>\n",
       "  <tbody>\n",
       "    <tr>\n",
       "      <th>count</th>\n",
       "      <td>5572</td>\n",
       "      <td>5572</td>\n",
       "    </tr>\n",
       "    <tr>\n",
       "      <th>unique</th>\n",
       "      <td>2</td>\n",
       "      <td>5169</td>\n",
       "    </tr>\n",
       "    <tr>\n",
       "      <th>top</th>\n",
       "      <td>ham</td>\n",
       "      <td>Sorry, I'll call later</td>\n",
       "    </tr>\n",
       "    <tr>\n",
       "      <th>freq</th>\n",
       "      <td>4825</td>\n",
       "      <td>30</td>\n",
       "    </tr>\n",
       "  </tbody>\n",
       "</table>\n",
       "</div>"
      ],
      "text/plain": [
       "          v1                      v2\n",
       "count   5572                    5572\n",
       "unique     2                    5169\n",
       "top      ham  Sorry, I'll call later\n",
       "freq    4825                      30"
      ]
     },
     "execution_count": 7,
     "metadata": {},
     "output_type": "execute_result"
    }
   ],
   "source": [
    "spam_df.describe()"
   ]
  },
  {
   "cell_type": "code",
   "execution_count": 8,
   "id": "e8106546",
   "metadata": {},
   "outputs": [
    {
     "name": "stdout",
     "output_type": "stream",
     "text": [
      "<class 'pandas.core.frame.DataFrame'>\n",
      "RangeIndex: 5572 entries, 0 to 5571\n",
      "Data columns (total 2 columns):\n",
      " #   Column  Non-Null Count  Dtype \n",
      "---  ------  --------------  ----- \n",
      " 0   v1      5572 non-null   object\n",
      " 1   v2      5572 non-null   object\n",
      "dtypes: object(2)\n",
      "memory usage: 87.2+ KB\n"
     ]
    }
   ],
   "source": [
    "spam_df.info()"
   ]
  },
  {
   "cell_type": "code",
   "execution_count": 9,
   "id": "569d3a2e",
   "metadata": {},
   "outputs": [],
   "source": [
    "##Checking null values"
   ]
  },
  {
   "cell_type": "code",
   "execution_count": 10,
   "id": "df41a0e4",
   "metadata": {},
   "outputs": [
    {
     "data": {
      "text/plain": [
       "v1    0\n",
       "v2    0\n",
       "dtype: int64"
      ]
     },
     "execution_count": 10,
     "metadata": {},
     "output_type": "execute_result"
    }
   ],
   "source": [
    "spam_df.isnull().sum()"
   ]
  },
  {
   "cell_type": "code",
   "execution_count": 11,
   "id": "a7817216",
   "metadata": {},
   "outputs": [],
   "source": [
    "##Checking duplicates##"
   ]
  },
  {
   "cell_type": "code",
   "execution_count": 12,
   "id": "2db14bac",
   "metadata": {},
   "outputs": [
    {
     "data": {
      "text/plain": [
       "403"
      ]
     },
     "execution_count": 12,
     "metadata": {},
     "output_type": "execute_result"
    }
   ],
   "source": [
    "spam_df.duplicated().sum()"
   ]
  },
  {
   "cell_type": "code",
   "execution_count": 13,
   "id": "1cb91124",
   "metadata": {},
   "outputs": [
    {
     "data": {
      "text/plain": [
       "0"
      ]
     },
     "execution_count": 13,
     "metadata": {},
     "output_type": "execute_result"
    }
   ],
   "source": [
    "spam_df.drop_duplicates(keep= 'first', inplace = True)\n",
    "spam_df.duplicated().sum()"
   ]
  },
  {
   "cell_type": "code",
   "execution_count": 14,
   "id": "0b9536ee",
   "metadata": {},
   "outputs": [],
   "source": [
    "##Renaming##"
   ]
  },
  {
   "cell_type": "code",
   "execution_count": 15,
   "id": "1dc22244",
   "metadata": {},
   "outputs": [
    {
     "name": "stdout",
     "output_type": "stream",
     "text": [
      "   Type                                            Message\n",
      "0   ham  Go until jurong point, crazy.. Available only ...\n",
      "1   ham                      Ok lar... Joking wif u oni...\n",
      "2  spam  Free entry in 2 a wkly comp to win FA Cup fina...\n",
      "3   ham  U dun say so early hor... U c already then say...\n",
      "4   ham  Nah I don't think he goes to usf, he lives aro...\n",
      "5  spam  FreeMsg Hey there darling it's been 3 week's n...\n",
      "6   ham  Even my brother is not like to speak with me. ...\n",
      "7   ham  As per your request 'Melle Melle (Oru Minnamin...\n",
      "8  spam  WINNER!! As a valued network customer you have...\n",
      "9  spam  Had your mobile 11 months or more? U R entitle...\n"
     ]
    }
   ],
   "source": [
    "spam_df.rename(columns={'v1' : 'Type', 'v2' : 'Message'}, inplace = True)\n",
    "print(spam_df.head(10))"
   ]
  },
  {
   "cell_type": "code",
   "execution_count": 16,
   "id": "23796a84",
   "metadata": {},
   "outputs": [
    {
     "name": "stdout",
     "output_type": "stream",
     "text": [
      "ham     4516\n",
      "spam     653\n",
      "Name: Type, dtype: int64\n"
     ]
    }
   ],
   "source": [
    "print(spam_df['Type'].value_counts())"
   ]
  },
  {
   "cell_type": "code",
   "execution_count": 17,
   "id": "7c546329",
   "metadata": {},
   "outputs": [
    {
     "data": {
      "text/plain": [
       "(5169, 2)"
      ]
     },
     "execution_count": 17,
     "metadata": {},
     "output_type": "execute_result"
    }
   ],
   "source": [
    "spam_df.shape"
   ]
  },
  {
   "cell_type": "markdown",
   "id": "1e93f5b0",
   "metadata": {},
   "source": [
    "# Data Visualization"
   ]
  },
  {
   "cell_type": "code",
   "execution_count": 18,
   "id": "ea216d7c",
   "metadata": {},
   "outputs": [
    {
     "name": "stderr",
     "output_type": "stream",
     "text": [
      "C:\\Users\\ELCOT\\anaconda3\\Saranya_prgms\\lib\\site-packages\\seaborn\\_decorators.py:36: FutureWarning: Pass the following variable as a keyword arg: x. From version 0.12, the only valid positional argument will be `data`, and passing other arguments without an explicit keyword will result in an error or misinterpretation.\n",
      "  warnings.warn(\n"
     ]
    },
    {
     "data": {
      "image/png": "[encoded data removed]",
      "text/plain": [
       "<Figure size 640x480 with 1 Axes>"
      ]
     },
     "metadata": {},
     "output_type": "display_data"
    }
   ],
   "source": [
    "sns.countplot(spam_df['Type'])\n",
    "plt.show()"
   ]
  },
  {
   "cell_type": "markdown",
   "id": "d5c01eab",
   "metadata": {},
   "source": [
    "# Data preparation "
   ]
  },
  {
   "cell_type": "code",
   "execution_count": 19,
   "id": "86ef02a4",
   "metadata": {},
   "outputs": [
    {
     "name": "stdout",
     "output_type": "stream",
     "text": [
      "0       0\n",
      "1       0\n",
      "2       1\n",
      "3       0\n",
      "4       0\n",
      "       ..\n",
      "5567    1\n",
      "5568    0\n",
      "5569    0\n",
      "5570    0\n",
      "5571    0\n",
      "Name: Type, Length: 5169, dtype: int32\n"
     ]
    }
   ],
   "source": [
    "from sklearn.preprocessing import LabelEncoder\n",
    "l_en = LabelEncoder()\n",
    "spam_df['Type']=l_en.fit_transform(spam_df['Type'])\n",
    "print(spam_df['Type'])"
   ]
  },
  {
   "cell_type": "markdown",
   "id": "c3f1052d",
   "metadata": {},
   "source": [
    "# *HAM = 0\n",
    "# *SPAM = 1"
   ]
  },
  {
   "cell_type": "code",
   "execution_count": 20,
   "id": "ce923a4d",
   "metadata": {},
   "outputs": [],
   "source": [
    "X = spam_df['Message']\n",
    "Y =spam_df['Type']"
   ]
  },
  {
   "cell_type": "code",
   "execution_count": 21,
   "id": "3c3b5663",
   "metadata": {},
   "outputs": [
    {
     "name": "stdout",
     "output_type": "stream",
     "text": [
      "0       0\n",
      "1       0\n",
      "2       1\n",
      "3       0\n",
      "4       0\n",
      "       ..\n",
      "5567    1\n",
      "5568    0\n",
      "5569    0\n",
      "5570    0\n",
      "5571    0\n",
      "Name: Type, Length: 5169, dtype: int32\n"
     ]
    }
   ],
   "source": [
    "print(Y)"
   ]
  },
  {
   "cell_type": "markdown",
   "id": "c8cdf352",
   "metadata": {},
   "source": [
    "# Train_test_split"
   ]
  },
  {
   "cell_type": "code",
   "execution_count": 22,
   "id": "36f0157c",
   "metadata": {},
   "outputs": [],
   "source": [
    "from sklearn.model_selection import train_test_split\n",
    "X_train, X_test, Y_train, Y_test = train_test_split(X, Y, test_size = 0.33, random_state = 3)"
   ]
  },
  {
   "cell_type": "code",
   "execution_count": 23,
   "id": "0f85670a",
   "metadata": {},
   "outputs": [
    {
     "name": "stdout",
     "output_type": "stream",
     "text": [
      "4772       Ok then u tell me wat time u coming later lor.\n",
      "3956                    Where is that one day training:-)\n",
      "574                     Nope i waiting in sch 4 daddy... \n",
      "2279                    Sorry, I'll call later in meeting\n",
      "1328     My exam is for february 4. Wish you a great day.\n",
      "                              ...                        \n",
      "806      sure, but make sure he knows we ain't smokin yet\n",
      "990                                          26th OF JULY\n",
      "1723    Hi Jon, Pete here, Ive bin 2 Spain recently & ...\n",
      "3519    No it will reach by 9 only. She telling she wi...\n",
      "1745    IåÕm cool ta luv but v.tired 2 cause i have be...\n",
      "Name: Message, Length: 3463, dtype: object\n"
     ]
    }
   ],
   "source": [
    "print(X_train)"
   ]
  },
  {
   "cell_type": "code",
   "execution_count": 24,
   "id": "3e9731f8",
   "metadata": {},
   "outputs": [
    {
     "name": "stdout",
     "output_type": "stream",
     "text": [
      "4772    0\n",
      "3956    0\n",
      "574     0\n",
      "2279    0\n",
      "1328    0\n",
      "       ..\n",
      "806     0\n",
      "990     0\n",
      "1723    0\n",
      "3519    0\n",
      "1745    0\n",
      "Name: Type, Length: 3463, dtype: int32\n"
     ]
    }
   ],
   "source": [
    "print(Y_train)"
   ]
  },
  {
   "cell_type": "code",
   "execution_count": 25,
   "id": "f9b84b75",
   "metadata": {},
   "outputs": [
    {
     "name": "stdout",
     "output_type": "stream",
     "text": [
      "4994    0\n",
      "4292    0\n",
      "4128    0\n",
      "4429    0\n",
      "660     0\n",
      "       ..\n",
      "154     0\n",
      "3989    1\n",
      "2338    0\n",
      "2329    0\n",
      "3960    0\n",
      "Name: Type, Length: 1706, dtype: int32\n"
     ]
    }
   ],
   "source": [
    "print(Y_test)"
   ]
  },
  {
   "cell_type": "code",
   "execution_count": 26,
   "id": "a659b88c",
   "metadata": {},
   "outputs": [
    {
     "name": "stdout",
     "output_type": "stream",
     "text": [
      "(3463,)\n",
      "(3463,)\n",
      "(1706,)\n",
      "(1706,)\n"
     ]
    }
   ],
   "source": [
    "print(X_train.shape)\n",
    "print(Y_train.shape)\n",
    "print(X_test.shape)\n",
    "print(Y_test.shape)"
   ]
  },
  {
   "cell_type": "markdown",
   "id": "0fde230c",
   "metadata": {},
   "source": [
    "# Converting string(Message) into integer  "
   ]
  },
  {
   "cell_type": "code",
   "execution_count": 27,
   "id": "4033d4d9",
   "metadata": {},
   "outputs": [],
   "source": [
    "from sklearn.feature_extraction.text import TfidfVectorizer\n",
    "feature_extraction = TfidfVectorizer(min_df = 1, stop_words='english',lowercase='True')\n",
    "X_train_f = feature_extraction.fit_transform(X_train)\n",
    "X_test_f = feature_extraction.transform(X_test)"
   ]
  },
  {
   "cell_type": "code",
   "execution_count": 28,
   "id": "523a02e9",
   "metadata": {},
   "outputs": [
    {
     "name": "stdout",
     "output_type": "stream",
     "text": [
      "<class 'sklearn.feature_extraction.text.TfidfVectorizer'>\n"
     ]
    }
   ],
   "source": [
    "print(type(feature_extraction))"
   ]
  },
  {
   "cell_type": "code",
   "execution_count": 29,
   "id": "aa7550db",
   "metadata": {},
   "outputs": [
    {
     "name": "stdout",
     "output_type": "stream",
     "text": [
      "  (0, 3536)\t0.36949506324352316\n",
      "  (0, 3378)\t0.38343845220796546\n",
      "  (0, 1626)\t0.45345260795951076\n",
      "  (0, 5844)\t0.33812054854020257\n",
      "  (0, 6261)\t0.38977371590199317\n",
      "  (0, 5722)\t0.37851635729014105\n",
      "  (0, 4139)\t0.31828508644353765\n",
      "  (1, 5934)\t0.8558203878945323\n",
      "  (1, 1850)\t0.5172731035575425\n",
      "  (2, 1817)\t0.5387159419630596\n",
      "  (2, 5015)\t0.49082256518771594\n",
      "  (2, 6223)\t0.4519030185050383\n",
      "  (2, 4056)\t0.5144531127745645\n",
      "  (3, 3727)\t0.5895526666147596\n",
      "  (3, 3494)\t0.4254738946801276\n",
      "  (3, 5349)\t0.4835856600533805\n",
      "  (3, 3378)\t0.48738539947754483\n",
      "  (4, 2723)\t0.3568922448949036\n",
      "  (4, 6373)\t0.41982011889990845\n",
      "  (4, 2370)\t0.5845197888819536\n",
      "  (4, 2273)\t0.5047638078971797\n",
      "  (4, 1850)\t0.3161156559604073\n",
      "  (5, 2474)\t0.5884604326073726\n",
      "  (5, 1270)\t0.5770273246293844\n",
      "  (5, 3331)\t0.3722340001378917\n",
      "  :\t:\n",
      "  (3460, 238)\t0.2005404340191257\n",
      "  (3460, 6093)\t0.1125517351286317\n",
      "  (3460, 2881)\t0.13488213225118983\n",
      "  (3461, 4701)\t0.5570288355661652\n",
      "  (3461, 5723)\t0.6080834787106114\n",
      "  (3461, 3331)\t0.3717692634371264\n",
      "  (3461, 2049)\t0.4263108889418847\n",
      "  (3462, 4092)\t0.28187780196092593\n",
      "  (3462, 3104)\t0.28187780196092593\n",
      "  (3462, 5302)\t0.25877480298532124\n",
      "  (3462, 3172)\t0.2683634139059979\n",
      "  (3462, 5315)\t0.25877480298532124\n",
      "  (3462, 5402)\t0.25877480298532124\n",
      "  (3462, 5656)\t0.25877480298532124\n",
      "  (3462, 1390)\t0.1828721588884973\n",
      "  (3462, 4403)\t0.2452604149303932\n",
      "  (3462, 1423)\t0.22823429956331542\n",
      "  (3462, 5852)\t0.23567180400971655\n",
      "  (3462, 2038)\t0.2317460268754652\n",
      "  (3462, 3499)\t0.240122483048075\n",
      "  (3462, 5090)\t0.2170194840724703\n",
      "  (3462, 1707)\t0.19905441697918383\n",
      "  (3462, 3591)\t0.20513130058771073\n",
      "  (3462, 6383)\t0.20195455681937394\n",
      "  (3462, 2693)\t0.1379734101351722\n"
     ]
    }
   ],
   "source": [
    "print(X_train_f)"
   ]
  },
  {
   "cell_type": "code",
   "execution_count": 30,
   "id": "4e8c61ca",
   "metadata": {},
   "outputs": [
    {
     "data": {
      "text/plain": [
       "(3463,)"
      ]
     },
     "execution_count": 30,
     "metadata": {},
     "output_type": "execute_result"
    }
   ],
   "source": [
    "X_train.shape"
   ]
  },
  {
   "cell_type": "code",
   "execution_count": 31,
   "id": "46efa520",
   "metadata": {},
   "outputs": [
    {
     "name": "stdout",
     "output_type": "stream",
     "text": [
      "  (0, 5569)\t0.452761885262234\n",
      "  (0, 3853)\t0.4291166163128389\n",
      "  (0, 3528)\t0.452761885262234\n",
      "  (0, 3256)\t0.21698565521819796\n",
      "  (0, 2666)\t0.37191817675016847\n",
      "  (0, 705)\t0.46953847056887166\n",
      "  (1, 6262)\t0.42359753574343595\n",
      "  (1, 5003)\t0.3567997658626682\n",
      "  (1, 2099)\t0.5586006593391515\n",
      "  (1, 1423)\t0.4750715768749877\n",
      "  (1, 1109)\t0.39437463790640975\n",
      "  (2, 6419)\t0.8036583785269349\n",
      "  (2, 3217)\t0.5950909263494594\n",
      "  (3, 6486)\t0.4846860086138022\n",
      "  (3, 6106)\t0.5171299736011953\n",
      "  (3, 4042)\t0.449335531351833\n",
      "  (3, 3536)\t0.3306869875999226\n",
      "  (3, 1842)\t0.43174038490058203\n",
      "  (4, 6417)\t0.23274137109965132\n",
      "  (4, 5033)\t0.23577967850832202\n",
      "  (4, 4898)\t0.5266228653139841\n",
      "  (4, 4260)\t0.5138900720648099\n",
      "  (4, 2222)\t0.5906138746616781\n",
      "  (5, 2680)\t0.572314128970879\n",
      "  (5, 1005)\t0.820034473531634\n",
      "  :\t:\n",
      "  (1701, 1622)\t0.2325026684375207\n",
      "  (1702, 5651)\t0.29215602753659536\n",
      "  (1702, 5525)\t0.2736204076559823\n",
      "  (1702, 4370)\t0.19309525326979723\n",
      "  (1702, 3953)\t0.30686857672967877\n",
      "  (1702, 3738)\t0.29215602753659536\n",
      "  (1702, 3155)\t0.29215602753659536\n",
      "  (1702, 2715)\t0.30686857672967877\n",
      "  (1702, 2301)\t0.30686857672967877\n",
      "  (1702, 1432)\t0.30686857672967877\n",
      "  (1702, 1329)\t0.20198967143309268\n",
      "  (1702, 1032)\t0.25229220937337227\n",
      "  (1702, 365)\t0.281717307759539\n",
      "  (1702, 0)\t0.2670047585664556\n",
      "  (1703, 1145)\t0.6553390453353973\n",
      "  (1703, 792)\t0.7553348500227499\n",
      "  (1704, 6244)\t0.24935698772852627\n",
      "  (1704, 5793)\t0.32154606257532997\n",
      "  (1704, 5616)\t0.46964279943515547\n",
      "  (1704, 5502)\t0.4398466645294443\n",
      "  (1704, 4157)\t0.37200081492395576\n",
      "  (1704, 4126)\t0.4202204522018796\n",
      "  (1704, 1329)\t0.32469976932768363\n",
      "  (1705, 4348)\t0.78947205867749\n",
      "  (1705, 1816)\t0.6137865008026209\n"
     ]
    }
   ],
   "source": [
    "print(X_test_f)"
   ]
  },
  {
   "cell_type": "markdown",
   "id": "0e20c0f3",
   "metadata": {},
   "source": [
    "#  Fitting the training models "
   ]
  },
  {
   "cell_type": "code",
   "execution_count": 32,
   "id": "f7579eac",
   "metadata": {},
   "outputs": [
    {
     "data": {
      "text/plain": [
       "LogisticRegression()"
      ]
     },
     "execution_count": 32,
     "metadata": {},
     "output_type": "execute_result"
    }
   ],
   "source": [
    "#Logestic Regression\n",
    "from sklearn.linear_model import LogisticRegression\n",
    "model = LogisticRegression()\n",
    "model.fit(X_train_f, Y_train)"
   ]
  },
  {
   "cell_type": "code",
   "execution_count": 33,
   "id": "e4a08b7a",
   "metadata": {},
   "outputs": [
    {
     "data": {
      "text/plain": [
       "MultinomialNB()"
      ]
     },
     "execution_count": 33,
     "metadata": {},
     "output_type": "execute_result"
    }
   ],
   "source": [
    "#MultinomialNB\n",
    "from sklearn.naive_bayes import MultinomialNB, GaussianNB, BernoulliNB\n",
    "model2 = MultinomialNB()\n",
    "model2.fit(X_train_f, Y_train)"
   ]
  },
  {
   "cell_type": "markdown",
   "id": "c50414f3",
   "metadata": {},
   "source": [
    "# Predicting"
   ]
  },
  {
   "cell_type": "code",
   "execution_count": 34,
   "id": "21822d75",
   "metadata": {},
   "outputs": [],
   "source": [
    "#Prediction using Logistic Regression"
   ]
  },
  {
   "cell_type": "code",
   "execution_count": 35,
   "id": "d715197b",
   "metadata": {},
   "outputs": [
    {
     "name": "stdout",
     "output_type": "stream",
     "text": [
      "(1706,)\n",
      "<class 'numpy.ndarray'>\n",
      "(1706,)\n",
      "[0 0 0 ... 0 0 0]\n",
      "4994    0\n",
      "4292    0\n",
      "4128    0\n",
      "4429    0\n",
      "660     0\n",
      "       ..\n",
      "154     0\n",
      "3989    1\n",
      "2338    0\n",
      "2329    0\n",
      "3960    0\n",
      "Name: Type, Length: 1706, dtype: int32\n"
     ]
    }
   ],
   "source": [
    "y_test_predicted = model.predict(X_test_f)\n",
    "print(y_test_predicted.shape)\n",
    "print(type(y_test_predicted))\n",
    "print(Y_test.shape)\n",
    "print(y_test_predicted)\n",
    "print(Y_test)"
   ]
  },
  {
   "cell_type": "code",
   "execution_count": 36,
   "id": "6e2c2995",
   "metadata": {},
   "outputs": [
    {
     "name": "stdout",
     "output_type": "stream",
     "text": [
      "[0 0 0 ... 0 0 0]\n",
      "4772    0\n",
      "3956    0\n",
      "574     0\n",
      "2279    0\n",
      "1328    0\n",
      "       ..\n",
      "806     0\n",
      "990     0\n",
      "1723    0\n",
      "3519    0\n",
      "1745    0\n",
      "Name: Type, Length: 3463, dtype: int32\n"
     ]
    }
   ],
   "source": [
    "y_train_predicted = model.predict(X_train_f)\n",
    "print(y_train_predicted)\n",
    "print(Y_train)"
   ]
  },
  {
   "cell_type": "markdown",
   "id": "dbf75e32",
   "metadata": {},
   "source": [
    "# Accuracy"
   ]
  },
  {
   "cell_type": "code",
   "execution_count": 37,
   "id": "e0229ccf",
   "metadata": {},
   "outputs": [],
   "source": [
    "#Using Logistic Regression"
   ]
  },
  {
   "cell_type": "code",
   "execution_count": 38,
   "id": "64a18788",
   "metadata": {},
   "outputs": [
    {
     "name": "stdout",
     "output_type": "stream",
     "text": [
      "Accuracy is : 95.07620164126612\n"
     ]
    }
   ],
   "source": [
    "from sklearn.metrics import accuracy_score\n",
    "print(\"Accuracy is :\", accuracy_score(Y_test, y_test_predicted)*100)"
   ]
  },
  {
   "cell_type": "code",
   "execution_count": 39,
   "id": "e7d15a44",
   "metadata": {},
   "outputs": [
    {
     "name": "stdout",
     "output_type": "stream",
     "text": [
      "Accuracy is: 95.7551256136298\n"
     ]
    }
   ],
   "source": [
    "print(\"Accuracy is:\", accuracy_score(Y_train, y_train_predicted)*100)"
   ]
  },
  {
   "cell_type": "code",
   "execution_count": 40,
   "id": "47454958",
   "metadata": {},
   "outputs": [],
   "source": [
    "#Prediction using MultinomialNB"
   ]
  },
  {
   "cell_type": "code",
   "execution_count": 41,
   "id": "cd6c7906",
   "metadata": {},
   "outputs": [
    {
     "name": "stdout",
     "output_type": "stream",
     "text": [
      "(1706,)\n",
      "<class 'numpy.ndarray'>\n",
      "(1706,)\n",
      "[0 0 0 ... 0 0 0]\n",
      "4994    0\n",
      "4292    0\n",
      "4128    0\n",
      "4429    0\n",
      "660     0\n",
      "       ..\n",
      "154     0\n",
      "3989    1\n",
      "2338    0\n",
      "2329    0\n",
      "3960    0\n",
      "Name: Type, Length: 1706, dtype: int32\n"
     ]
    }
   ],
   "source": [
    "y_test_predicted = model2.predict(X_test_f)\n",
    "print(y_test_predicted.shape)\n",
    "print(type(y_test_predicted))\n",
    "print(Y_test.shape)\n",
    "print(y_test_predicted)\n",
    "print(Y_test)"
   ]
  },
  {
   "cell_type": "code",
   "execution_count": 42,
   "id": "658bd7d5",
   "metadata": {},
   "outputs": [
    {
     "name": "stdout",
     "output_type": "stream",
     "text": [
      "[0 0 0 ... 0 0 0]\n",
      "4772    0\n",
      "3956    0\n",
      "574     0\n",
      "2279    0\n",
      "1328    0\n",
      "       ..\n",
      "806     0\n",
      "990     0\n",
      "1723    0\n",
      "3519    0\n",
      "1745    0\n",
      "Name: Type, Length: 3463, dtype: int32\n"
     ]
    }
   ],
   "source": [
    "y_train_predicted = model2.predict(X_train_f)\n",
    "print(y_train_predicted)\n",
    "print(Y_train)"
   ]
  },
  {
   "cell_type": "markdown",
   "id": "714cf8a2",
   "metadata": {},
   "source": [
    "# Accuracy"
   ]
  },
  {
   "cell_type": "code",
   "execution_count": 43,
   "id": "91e7d43c",
   "metadata": {},
   "outputs": [],
   "source": [
    "#Using MultinomialNB"
   ]
  },
  {
   "cell_type": "code",
   "execution_count": 44,
   "id": "054a7ea2",
   "metadata": {},
   "outputs": [
    {
     "name": "stdout",
     "output_type": "stream",
     "text": [
      "Accuracy is : 96.24853458382181\n"
     ]
    }
   ],
   "source": [
    "from sklearn.metrics import accuracy_score\n",
    "print(\"Accuracy is :\", accuracy_score(Y_test, y_test_predicted)*100)"
   ]
  },
  {
   "cell_type": "code",
   "execution_count": 45,
   "id": "f09149ac",
   "metadata": {},
   "outputs": [
    {
     "name": "stdout",
     "output_type": "stream",
     "text": [
      "Accuracy is: 97.86312445856194\n"
     ]
    }
   ],
   "source": [
    "print(\"Accuracy is:\", accuracy_score(Y_train, y_train_predicted)*100)"
   ]
  },
  {
   "cell_type": "markdown",
   "id": "4d5a209e",
   "metadata": {},
   "source": [
    "# Confusion Matrix"
   ]
  },
  {
   "cell_type": "code",
   "execution_count": 50,
   "id": "f2e00c01",
   "metadata": {},
   "outputs": [],
   "source": [
    "from sklearn.metrics import confusion_matrix\n",
    "from sklearn.metrics import plot_confusion_matrix\n",
    "from matplotlib import cm"
   ]
  },
  {
   "cell_type": "code",
   "execution_count": 51,
   "id": "e509bfca",
   "metadata": {},
   "outputs": [
    {
     "name": "stdout",
     "output_type": "stream",
     "text": [
      "[[1475    0]\n",
      " [  64  167]]\n"
     ]
    }
   ],
   "source": [
    "print(confusion_matrix(Y_test, y_test_predicted))"
   ]
  },
  {
   "cell_type": "code",
   "execution_count": 52,
   "id": "e8087fb5",
   "metadata": {},
   "outputs": [
    {
     "name": "stderr",
     "output_type": "stream",
     "text": [
      "C:\\Users\\ELCOT\\anaconda3\\Saranya_prgms\\lib\\site-packages\\sklearn\\utils\\deprecation.py:87: FutureWarning: Function plot_confusion_matrix is deprecated; Function `plot_confusion_matrix` is deprecated in 1.0 and will be removed in 1.2. Use one of the class methods: ConfusionMatrixDisplay.from_predictions or ConfusionMatrixDisplay.from_estimator.\n",
      "  warnings.warn(msg, category=FutureWarning)\n"
     ]
    },
    {
     "data": {
      "text/plain": [
       "<sklearn.metrics._plot.confusion_matrix.ConfusionMatrixDisplay at 0x2728b70ee20>"
      ]
     },
     "execution_count": 52,
     "metadata": {},
     "output_type": "execute_result"
    },
    {
     "data": {
      "image/png": "[encoded data removed]",
      "text/plain": [
       "<Figure size 640x480 with 2 Axes>"
      ]
     },
     "metadata": {},
     "output_type": "display_data"
    }
   ],
   "source": [
    "plot_confusion_matrix(model2,X_test_f,Y_test, cmap = plt.cm.Blues)"
   ]
  },
  {
   "cell_type": "markdown",
   "id": "defaa230",
   "metadata": {},
   "source": [
    "# K fold cross validation"
   ]
  },
  {
   "cell_type": "markdown",
   "id": "460b2f92",
   "metadata": {},
   "source": [
    "This validation is used to improve the model's prediction"
   ]
  },
  {
   "cell_type": "code",
   "execution_count": 55,
   "id": "e3b8dddb",
   "metadata": {},
   "outputs": [],
   "source": [
    "from sklearn.model_selection import cross_val_score\n",
    "cv_scores = cross_val_score(model2, X_test_f, Y_test,cv = 5)"
   ]
  },
  {
   "cell_type": "code",
   "execution_count": 56,
   "id": "3255a6e9",
   "metadata": {},
   "outputs": [],
   "source": [
    "from sklearn.model_selection import cross_val_score\n",
    "cv_s = cross_val_score(model2, X_train_f, Y_train,cv = 5)"
   ]
  },
  {
   "cell_type": "code",
   "execution_count": 57,
   "id": "6535a4e9",
   "metadata": {},
   "outputs": [
    {
     "name": "stdout",
     "output_type": "stream",
     "text": [
      "[0.93567251 0.93255132 0.92668622 0.93548387 0.92668622]\n"
     ]
    }
   ],
   "source": [
    "print(cv_scores)"
   ]
  },
  {
   "cell_type": "code",
   "execution_count": 58,
   "id": "e477cbc7",
   "metadata": {},
   "outputs": [
    {
     "name": "stdout",
     "output_type": "stream",
     "text": [
      "Accuracy of testing models : 0.9314160278506629\n"
     ]
    }
   ],
   "source": [
    "print(\"Accuracy of testing models :\",cv_scores.mean())"
   ]
  },
  {
   "cell_type": "code",
   "execution_count": 59,
   "id": "25779422",
   "metadata": {},
   "outputs": [
    {
     "name": "stdout",
     "output_type": "stream",
     "text": [
      "[0.96681097 0.95526696 0.95238095 0.95809249 0.95375723]\n"
     ]
    }
   ],
   "source": [
    "print(cv_s)"
   ]
  },
  {
   "cell_type": "code",
   "execution_count": 60,
   "id": "4cb19ed5",
   "metadata": {},
   "outputs": [
    {
     "name": "stdout",
     "output_type": "stream",
     "text": [
      "Accuracy of training models : 0.9572617170883067\n"
     ]
    }
   ],
   "source": [
    "print(\"Accuracy of training models :\",cv_s.mean())"
   ]
  },
  {
   "cell_type": "markdown",
   "id": "cf08cd51",
   "metadata": {},
   "source": [
    "# Checking"
   ]
  },
  {
   "cell_type": "code",
   "execution_count": 61,
   "id": "031e70aa",
   "metadata": {},
   "outputs": [],
   "source": [
    "#Mail checking using Logistic Regression"
   ]
  },
  {
   "cell_type": "code",
   "execution_count": 62,
   "id": "50c6c466",
   "metadata": {},
   "outputs": [],
   "source": [
    "mail = [' WINNER!! As a valued network customer you have...',' Go until jurong point, crazy.. Available only ...']"
   ]
  },
  {
   "cell_type": "code",
   "execution_count": 63,
   "id": "5d5f2304",
   "metadata": {},
   "outputs": [
    {
     "name": "stdout",
     "output_type": "stream",
     "text": [
      "[0 0]\n"
     ]
    }
   ],
   "source": [
    "extract = feature_extraction.transform(mail)\n",
    "print(model.predict(extract))\n"
   ]
  },
  {
   "cell_type": "markdown",
   "id": "fc12582e",
   "metadata": {},
   "source": [
    "By using Logistic Regression model I got some inaccurate results---------"
   ]
  },
  {
   "cell_type": "code",
   "execution_count": 64,
   "id": "d2375c85",
   "metadata": {},
   "outputs": [],
   "source": [
    "#Mail checking using MultinomialNB"
   ]
  },
  {
   "cell_type": "code",
   "execution_count": 67,
   "id": "fd159c58",
   "metadata": {},
   "outputs": [],
   "source": [
    "mail = [' WINNER!! As a valued network customer you have...',' Go until jurong point, crazy.. Available only ...']"
   ]
  },
  {
   "cell_type": "code",
   "execution_count": 68,
   "id": "9f586d7a",
   "metadata": {},
   "outputs": [
    {
     "name": "stdout",
     "output_type": "stream",
     "text": [
      "[1 0]\n"
     ]
    }
   ],
   "source": [
    "extract = feature_extraction.transform(mail)\n",
    "print(model2.predict(extract))\n"
   ]
  },
  {
   "cell_type": "markdown",
   "id": "881c82db",
   "metadata": {},
   "source": [
    "By using MultinomialNB model , I got accurate results-------------- "
   ]
  },
  {
   "cell_type": "markdown",
   "id": "eca2464f",
   "metadata": {},
   "source": [
    "# Thus the spam and ham mails are detected"
   ]
  },
  {
   "cell_type": "markdown",
   "id": "69b17271",
   "metadata": {},
   "source": [
    "# ThankYou"
   ]
  },
  {
   "cell_type": "markdown",
   "id": "4578cc66",
   "metadata": {},
   "source": [
    "# ------------------------------------------------------------------------------------------------------------"
   ]
  },
  {
   "cell_type": "code",
   "execution_count": null,
   "id": "7a04164f",
   "metadata": {},
   "outputs": [],
   "source": []
  }
 ],
 "metadata": {
  "kernelspec": {
   "display_name": "Python 3 (ipykernel)",
   "language": "python",
   "name": "python3"
  },
  "language_info": {
   "codemirror_mode": {
    "name": "ipython",
    "version": 3
   },
   "file_extension": ".py",
   "mimetype": "text/x-python",
   "name": "python",
   "nbconvert_exporter": "python",
   "pygments_lexer": "ipython3",
   "version": "3.9.13"
  }
 },
 "nbformat": 4,
 "nbformat_minor": 5
}
